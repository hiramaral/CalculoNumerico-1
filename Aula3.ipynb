{
  "nbformat": 4,
  "nbformat_minor": 0,
  "metadata": {
    "colab": {
      "name": "Untitled4.ipynb",
      "provenance": [],
      "authorship_tag": "ABX9TyMGoGMj65fO78QbFx36WSpa",
      "include_colab_link": true
    },
    "kernelspec": {
      "name": "python3",
      "display_name": "Python 3"
    },
    "language_info": {
      "name": "python"
    }
  },
  "cells": [
    {
      "cell_type": "markdown",
      "metadata": {
        "id": "view-in-github",
        "colab_type": "text"
      },
      "source": [
        "<a href=\"https://colab.research.google.com/github/hiramaral/CalculoNumerico-1/blob/master/Aula3.ipynb\" target=\"_parent\"><img src=\"https://colab.research.google.com/assets/colab-badge.svg\" alt=\"Open In Colab\"/></a>"
      ]
    },
    {
      "cell_type": "code",
      "execution_count": 1,
      "metadata": {
        "colab": {
          "base_uri": "https://localhost:8080/"
        },
        "id": "81oPp56x2Mni",
        "outputId": "fa5e4dd8-a172-4bf9-db03-90d195bd72a6"
      },
      "outputs": [
        {
          "output_type": "stream",
          "name": "stdout",
          "text": [
            "Por gentileza, digite um numero inteiro: 321\n",
            "Escolha uma das bases para conversão:\n",
            "[1] converter para binário\n",
            "[2] converter para octal\n",
            "[3] converter para hexadecimal\n",
            "sua opção:2\n",
            "321 convertido  para octal é igual a 501\n",
            "opção inválida, você pode tentar novamente.\n"
          ]
        }
      ],
      "source": [
        "# CN_UEA\n",
        "# Aula 3 do curso Cálculo Numérico\n",
        "# Prof. Hiram Amaral\n",
        "\n",
        "num = int(input('Por gentileza, digite um numero inteiro: '))\n",
        "print('''Escolha uma das bases para conversão:\n",
        "[1] converter para binário\n",
        "[2] converter para octal\n",
        "[3] converter para hexadecimal''')\n",
        "opção = int(input('sua opção:'))\n",
        "if opção == 1:\n",
        "    print('{} convertido  para binário é igual a {}'.format(num, bin(num)[2:]))\n",
        "if opção == 2:\n",
        "    print('{} convertido  para octal é igual a {}'.format(num, oct(num)[2:]))\n",
        "if opção == 3:\n",
        "    print('{} convertido  para hexadecimal é igual a {}'.format(num, hex(num)[2:]))\n",
        "else:\n",
        "    print('opção inválida, você pode tentar novamente.')\n"
      ]
    }
  ]
}